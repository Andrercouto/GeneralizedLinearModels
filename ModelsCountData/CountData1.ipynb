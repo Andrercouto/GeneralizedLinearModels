{
 "cells": [
  {
   "cell_type": "markdown",
   "id": "f5800997",
   "metadata": {},
   "source": [
    "# Count Model Analysis 1\n",
    "\n",
    "In this script, we will perform an analysis of different models for count data using the statsmodels library. We will use the \"corruption\" dataset as an example. We will apply Poisson, Negative Binomial, and their variations with zero inflation and compare their results.\n",
    "\n",
    "Additionally, we will conduct tests to assess the presence of overdispersion and zero inflation in the data. These pieces of information are crucial for determining the most suitable model to be applied to count data.\n",
    "\n",
    "The objective is to evaluate and select the best-fitting model that takes into account the specific characteristics of the \"corruption\" dataset.\n",
    "\n",
    "## Dataset Description\n",
    "\n",
    "The dataset used was obtained from a [study](https://www.journals.uchicago.edu/doi/abs/10.1086/527495) on cultural norms and legal enforcement in controlling corruption, focusing on the parking behavior of United Nations officials in Manhattan.\n",
    "\n",
    "Until 2002, diplomatic immunity protected UN diplomats from parking enforcement actions, so their actions were only constrained by cultural norms. However, after that year, enforcement authorities acquired the right to confiscate diplomatic license plates of violators.\n",
    "\n",
    "The dataset includes the number of violations (occurring in different countries) as the dependent variable, and the number of staff, the corruption index of the country, and a categorical variable (post) indicating whether the observation of the delegation in question was made before or after the change in the law as the predictor variables.\n",
    "\n",
    "The dataset has proven effective for studying models for count data due to the fact that the dependent variable consists of positive integer numbers.\n",
    "\n",
    "## Implementation\n",
    "\n",
    "- Investigating Dataset\n",
    "\n",
    "\n",
    "- Descriptive Statistics\n",
    "\n",
    "\n",
    "- Defining the Best Model (and Tests)\n",
    "\n",
    "\n",
    "- Interpreting the Results\n",
    "\n",
    "***\n",
    "\n",
    "## Checking the Dataset"
   ]
  },
  {
   "cell_type": "code",
   "execution_count": 1,
   "id": "5a5e7187",
   "metadata": {},
   "outputs": [],
   "source": [
    "# Libraries Needed\n",
    "import scipy\n",
    "import pandas as pd\n",
    "from scipy import stats\n",
    "import numpy as np\n",
    "import math\n",
    "import statsmodels.api as sm\n",
    "import warnings\n",
    "import matplotlib.pyplot as plt\n",
    "import seaborn as sns\n",
    "\n",
    "sns.set()\n",
    "warnings.filterwarnings(\"ignore\")"
   ]
  },
  {
   "cell_type": "code",
   "execution_count": 2,
   "id": "8316c40f",
   "metadata": {},
   "outputs": [
    {
     "data": {
      "text/html": [
       "<div>\n",
       "<style scoped>\n",
       "    .dataframe tbody tr th:only-of-type {\n",
       "        vertical-align: middle;\n",
       "    }\n",
       "\n",
       "    .dataframe tbody tr th {\n",
       "        vertical-align: top;\n",
       "    }\n",
       "\n",
       "    .dataframe thead th {\n",
       "        text-align: right;\n",
       "    }\n",
       "</style>\n",
       "<table border=\"1\" class=\"dataframe\">\n",
       "  <thead>\n",
       "    <tr style=\"text-align: right;\">\n",
       "      <th></th>\n",
       "      <th>country</th>\n",
       "      <th>code</th>\n",
       "      <th>violations</th>\n",
       "      <th>staff</th>\n",
       "      <th>post</th>\n",
       "      <th>corruption</th>\n",
       "    </tr>\n",
       "  </thead>\n",
       "  <tbody>\n",
       "    <tr>\n",
       "      <th>1</th>\n",
       "      <td>Angola</td>\n",
       "      <td>AGO</td>\n",
       "      <td>50</td>\n",
       "      <td>9</td>\n",
       "      <td>no</td>\n",
       "      <td>1.047506</td>\n",
       "    </tr>\n",
       "    <tr>\n",
       "      <th>2</th>\n",
       "      <td>Angola</td>\n",
       "      <td>AGO</td>\n",
       "      <td>1</td>\n",
       "      <td>9</td>\n",
       "      <td>yes</td>\n",
       "      <td>1.047506</td>\n",
       "    </tr>\n",
       "    <tr>\n",
       "      <th>3</th>\n",
       "      <td>Albania</td>\n",
       "      <td>ALB</td>\n",
       "      <td>17</td>\n",
       "      <td>3</td>\n",
       "      <td>no</td>\n",
       "      <td>0.921079</td>\n",
       "    </tr>\n",
       "    <tr>\n",
       "      <th>4</th>\n",
       "      <td>Albania</td>\n",
       "      <td>ALB</td>\n",
       "      <td>0</td>\n",
       "      <td>3</td>\n",
       "      <td>yes</td>\n",
       "      <td>0.921079</td>\n",
       "    </tr>\n",
       "    <tr>\n",
       "      <th>5</th>\n",
       "      <td>United Arab Emirates</td>\n",
       "      <td>ARE</td>\n",
       "      <td>0</td>\n",
       "      <td>3</td>\n",
       "      <td>no</td>\n",
       "      <td>-0.779468</td>\n",
       "    </tr>\n",
       "  </tbody>\n",
       "</table>\n",
       "</div>"
      ],
      "text/plain": [
       "                country code  violations  staff post  corruption\n",
       "1                Angola  AGO          50      9   no    1.047506\n",
       "2                Angola  AGO           1      9  yes    1.047506\n",
       "3               Albania  ALB          17      3   no    0.921079\n",
       "4               Albania  ALB           0      3  yes    0.921079\n",
       "5  United Arab Emirates  ARE           0      3   no   -0.779468"
      ]
     },
     "execution_count": 2,
     "metadata": {},
     "output_type": "execute_result"
    }
   ],
   "source": [
    "# Checking DataFrame\n",
    "df = pd.read_csv(f'Data/corruption.csv', index_col=0)\n",
    "df.head(5)"
   ]
  },
  {
   "cell_type": "code",
   "execution_count": 3,
   "id": "cc23171b",
   "metadata": {},
   "outputs": [
    {
     "data": {
      "text/html": [
       "<div>\n",
       "<style scoped>\n",
       "    .dataframe tbody tr th:only-of-type {\n",
       "        vertical-align: middle;\n",
       "    }\n",
       "\n",
       "    .dataframe tbody tr th {\n",
       "        vertical-align: top;\n",
       "    }\n",
       "\n",
       "    .dataframe thead th {\n",
       "        text-align: right;\n",
       "    }\n",
       "</style>\n",
       "<table border=\"1\" class=\"dataframe\">\n",
       "  <thead>\n",
       "    <tr style=\"text-align: right;\">\n",
       "      <th></th>\n",
       "      <th>country</th>\n",
       "      <th>code</th>\n",
       "      <th>violations</th>\n",
       "      <th>staff</th>\n",
       "      <th>post</th>\n",
       "      <th>corruption</th>\n",
       "    </tr>\n",
       "  </thead>\n",
       "  <tbody>\n",
       "    <tr>\n",
       "      <th>1</th>\n",
       "      <td>Angola</td>\n",
       "      <td>AGO</td>\n",
       "      <td>50</td>\n",
       "      <td>9</td>\n",
       "      <td>0</td>\n",
       "      <td>1.047506</td>\n",
       "    </tr>\n",
       "    <tr>\n",
       "      <th>2</th>\n",
       "      <td>Angola</td>\n",
       "      <td>AGO</td>\n",
       "      <td>1</td>\n",
       "      <td>9</td>\n",
       "      <td>1</td>\n",
       "      <td>1.047506</td>\n",
       "    </tr>\n",
       "    <tr>\n",
       "      <th>3</th>\n",
       "      <td>Albania</td>\n",
       "      <td>ALB</td>\n",
       "      <td>17</td>\n",
       "      <td>3</td>\n",
       "      <td>0</td>\n",
       "      <td>0.921079</td>\n",
       "    </tr>\n",
       "    <tr>\n",
       "      <th>4</th>\n",
       "      <td>Albania</td>\n",
       "      <td>ALB</td>\n",
       "      <td>0</td>\n",
       "      <td>3</td>\n",
       "      <td>1</td>\n",
       "      <td>0.921079</td>\n",
       "    </tr>\n",
       "    <tr>\n",
       "      <th>5</th>\n",
       "      <td>United Arab Emirates</td>\n",
       "      <td>ARE</td>\n",
       "      <td>0</td>\n",
       "      <td>3</td>\n",
       "      <td>0</td>\n",
       "      <td>-0.779468</td>\n",
       "    </tr>\n",
       "  </tbody>\n",
       "</table>\n",
       "</div>"
      ],
      "text/plain": [
       "                country code  violations  staff  post  corruption\n",
       "1                Angola  AGO          50      9     0    1.047506\n",
       "2                Angola  AGO           1      9     1    1.047506\n",
       "3               Albania  ALB          17      3     0    0.921079\n",
       "4               Albania  ALB           0      3     1    0.921079\n",
       "5  United Arab Emirates  ARE           0      3     0   -0.779468"
      ]
     },
     "execution_count": 3,
     "metadata": {},
     "output_type": "execute_result"
    }
   ],
   "source": [
    "# Transforming 'post'\n",
    "df['post'] = pd.factorize(df['post'])[0]\n",
    "df.head(5)"
   ]
  },
  {
   "cell_type": "code",
   "execution_count": 4,
   "id": "bb936bd3",
   "metadata": {},
   "outputs": [
    {
     "data": {
      "text/html": [
       "<div>\n",
       "<style scoped>\n",
       "    .dataframe tbody tr th:only-of-type {\n",
       "        vertical-align: middle;\n",
       "    }\n",
       "\n",
       "    .dataframe tbody tr th {\n",
       "        vertical-align: top;\n",
       "    }\n",
       "\n",
       "    .dataframe thead th {\n",
       "        text-align: right;\n",
       "    }\n",
       "</style>\n",
       "<table border=\"1\" class=\"dataframe\">\n",
       "  <thead>\n",
       "    <tr style=\"text-align: right;\">\n",
       "      <th></th>\n",
       "      <th>staff</th>\n",
       "      <th>post</th>\n",
       "      <th>corruption</th>\n",
       "      <th>violations</th>\n",
       "    </tr>\n",
       "  </thead>\n",
       "  <tbody>\n",
       "    <tr>\n",
       "      <th>1</th>\n",
       "      <td>9</td>\n",
       "      <td>0</td>\n",
       "      <td>1.047506</td>\n",
       "      <td>50</td>\n",
       "    </tr>\n",
       "    <tr>\n",
       "      <th>2</th>\n",
       "      <td>9</td>\n",
       "      <td>1</td>\n",
       "      <td>1.047506</td>\n",
       "      <td>1</td>\n",
       "    </tr>\n",
       "    <tr>\n",
       "      <th>3</th>\n",
       "      <td>3</td>\n",
       "      <td>0</td>\n",
       "      <td>0.921079</td>\n",
       "      <td>17</td>\n",
       "    </tr>\n",
       "    <tr>\n",
       "      <th>4</th>\n",
       "      <td>3</td>\n",
       "      <td>1</td>\n",
       "      <td>0.921079</td>\n",
       "      <td>0</td>\n",
       "    </tr>\n",
       "    <tr>\n",
       "      <th>5</th>\n",
       "      <td>3</td>\n",
       "      <td>0</td>\n",
       "      <td>-0.779468</td>\n",
       "      <td>0</td>\n",
       "    </tr>\n",
       "  </tbody>\n",
       "</table>\n",
       "</div>"
      ],
      "text/plain": [
       "   staff  post  corruption  violations\n",
       "1      9     0    1.047506          50\n",
       "2      9     1    1.047506           1\n",
       "3      3     0    0.921079          17\n",
       "4      3     1    0.921079           0\n",
       "5      3     0   -0.779468           0"
      ]
     },
     "execution_count": 4,
     "metadata": {},
     "output_type": "execute_result"
    }
   ],
   "source": [
    "# Keeping relevant columns\n",
    "df = df[['staff', 'post', 'corruption', 'violations']]\n",
    "df.head(5)"
   ]
  },
  {
   "cell_type": "code",
   "execution_count": 5,
   "id": "4ebc98db",
   "metadata": {},
   "outputs": [
    {
     "data": {
      "text/plain": [
       "staff           int64\n",
       "post            int64\n",
       "corruption    float64\n",
       "violations      int64\n",
       "dtype: object"
      ]
     },
     "execution_count": 5,
     "metadata": {},
     "output_type": "execute_result"
    }
   ],
   "source": [
    "# Checking data types\n",
    "df.dtypes"
   ]
  },
  {
   "cell_type": "code",
   "execution_count": 6,
   "id": "e9ee919a",
   "metadata": {},
   "outputs": [
    {
     "data": {
      "text/plain": [
       "staff         0\n",
       "post          0\n",
       "corruption    0\n",
       "violations    0\n",
       "dtype: int64"
      ]
     },
     "execution_count": 6,
     "metadata": {},
     "output_type": "execute_result"
    }
   ],
   "source": [
    "# Checking null values\n",
    "df.isna().sum()"
   ]
  },
  {
   "cell_type": "markdown",
   "id": "50c7874e",
   "metadata": {},
   "source": [
    "## Descriptive statistics"
   ]
  },
  {
   "cell_type": "code",
   "execution_count": 7,
   "id": "a3b850fb",
   "metadata": {},
   "outputs": [
    {
     "data": {
      "text/plain": [
       "(6.496644295302014, 331.61783381917587)"
      ]
     },
     "execution_count": 7,
     "metadata": {},
     "output_type": "execute_result"
    }
   ],
   "source": [
    "# Cecking violations mean and variance\n",
    "df['violations'].mean(), df['violations'].var()"
   ]
  },
  {
   "cell_type": "markdown",
   "id": "8e156635",
   "metadata": {},
   "source": [
    "As we can see, the variance being much greater than the mean is a strong indication of overdispersion."
   ]
  },
  {
   "cell_type": "code",
   "execution_count": 8,
   "id": "025e7272",
   "metadata": {},
   "outputs": [
    {
     "data": {
      "image/png": "[encoded data removed]",
      "text/plain": [
       "<Figure size 640x480 with 1 Axes>"
      ]
     },
     "metadata": {},
     "output_type": "display_data"
    }
   ],
   "source": [
    "# Plotting dependent variable distribution\n",
    "sns.distplot(df['violations'])\n",
    "plt.title('Violations Distribution');"
   ]
  },
  {
   "cell_type": "markdown",
   "id": "cdf0778d",
   "metadata": {},
   "source": [
    "The dependent variable (violations) shows a considerable number of zeros. Tests will be necessary, but indications suggest that the model with the best fit to the data is the Zero-Inflated Negative Binomial model."
   ]
  },
  {
   "cell_type": "code",
   "execution_count": 9,
   "id": "d5bc1e58",
   "metadata": {},
   "outputs": [
    {
     "data": {
      "image/png": "[encoded data removed]",
      "text/plain": [
       "<Figure size 1200x500 with 2 Axes>"
      ]
     },
     "metadata": {},
     "output_type": "display_data"
    }
   ],
   "source": [
    "# Plotting the Violations and Staff before and after the post\n",
    "fig, axes = plt.subplots(1, 2, figsize=(12, 5))\n",
    "axes[0].scatter(df['violations'].loc[df['post'] == 0], df['staff'].loc[df['post'] == 0])\n",
    "axes[0].set_title('Violations and Staff before post')\n",
    "axes[1].scatter(df['violations'].loc[df['post'] == 1], df['staff'].loc[df['post'] == 1], color='orange')\n",
    "axes[1].set_title('Violations and Staff after post')\n",
    "plt.show()"
   ]
  },
  {
   "cell_type": "markdown",
   "id": "65c0ae6d",
   "metadata": {},
   "source": [
    "## Defining the Best Model\n",
    "\n",
    "The Poisson, Negative Binomial, and their variations with zero-inflation models will be applied to the data, and the Log Likelihood will be used as the metric to evaluate the quality of the fit.\n",
    "\n",
    "There is strong evidence that the ideal model will be the Zero-Inflated Negative Binomial, considering the high observed dispersion and the high number of zeros. However, initially, tests will be conducted.\n",
    "\n",
    "Starting with the Cameron and Trivedi test, which aims to observe the presence of overdispersion. To perform the test, the Poisson model needs to be created and fitted to the dataset."
   ]
  },
  {
   "cell_type": "code",
   "execution_count": 10,
   "id": "778b8efe",
   "metadata": {},
   "outputs": [],
   "source": [
    "# Spliting Variables into predictors and dependent\n",
    "X = df.drop('violations', 1).values\n",
    "y = df['violations'].values"
   ]
  },
  {
   "cell_type": "code",
   "execution_count": 11,
   "id": "2ede0cf4",
   "metadata": {},
   "outputs": [
    {
     "name": "stdout",
     "output_type": "stream",
     "text": [
      "                 Generalized Linear Model Regression Results                  \n",
      "==============================================================================\n",
      "Dep. Variable:                      y   No. Observations:                  298\n",
      "Model:                            GLM   Df Residuals:                      294\n",
      "Model Family:                 Poisson   Df Model:                            3\n",
      "Link Function:                    Log   Scale:                          1.0000\n",
      "Method:                          IRLS   Log-Likelihood:                -2071.8\n",
      "Date:                Mon, 29 May 2023   Deviance:                       3644.0\n",
      "Time:                        16:14:54   Pearson chi2:                 6.77e+03\n",
      "No. Iterations:                     7   Pseudo R-squ. (CS):             0.9999\n",
      "Covariance Type:            nonrobust                                         \n",
      "==============================================================================\n",
      "                 coef    std err          z      P>|z|      [0.025      0.975]\n",
      "------------------------------------------------------------------------------\n",
      "const          2.2127      0.031     71.134      0.000       2.152       2.274\n",
      "x1             0.0219      0.001     17.807      0.000       0.019       0.024\n",
      "x2            -4.2968      0.197    -21.762      0.000      -4.684      -3.910\n",
      "x3             0.3418      0.027     12.430      0.000       0.288       0.396\n",
      "==============================================================================\n"
     ]
    }
   ],
   "source": [
    "# Creating Poisson Model\n",
    "poisson_model = sm.GLM(y, sm.add_constant(X), family=sm.families.Poisson()).fit()\n",
    "print(poisson_model.summary())"
   ]
  },
  {
   "cell_type": "code",
   "execution_count": 12,
   "id": "0ae60d88",
   "metadata": {},
   "outputs": [
    {
     "data": {
      "text/plain": [
       "array([15.91991512,  0.21671089, 13.37172024,  0.18202342,  7.47791499])"
      ]
     },
     "execution_count": 12,
     "metadata": {},
     "output_type": "execute_result"
    }
   ],
   "source": [
    "# Poisson Fitted Values\n",
    "poisson_fitted = poisson_model.fittedvalues\n",
    "poisson_fitted[0:5]"
   ]
  },
  {
   "cell_type": "markdown",
   "id": "b9aaf23c",
   "metadata": {},
   "source": [
    "The Cameron and Trivedi test for overdispersion is an approach used to assess whether a Poisson model exhibits overdispersion. It involves calculating the Pearson statistic, which measures the difference between the observed and expected values adjusted by the model.\n",
    "\n",
    "Then, an auxiliary linear regression model is fitted, with the Pearson statistic as the dependent variable and the adjusted expected values as the independent variable.\n",
    "\n",
    "A hypothesis test is conducted to determine if the coefficient of the predictor is statistically different from zero, indicating the presence of overdispersion in the data. It is important to consult specialized literature for specific details on implementing this test."
   ]
  },
  {
   "cell_type": "code",
   "execution_count": 13,
   "id": "2c10cdad",
   "metadata": {},
   "outputs": [],
   "source": [
    "# Calculating pearson stat\n",
    "pearson_stat = (((df['violations'] - poisson_fitted)**2)-df['violations'])/poisson_fitted"
   ]
  },
  {
   "cell_type": "code",
   "execution_count": 14,
   "id": "8cb1cdf2",
   "metadata": {},
   "outputs": [
    {
     "data": {
      "text/html": [
       "<table class=\"simpletable\">\n",
       "<caption>OLS Regression Results</caption>\n",
       "<tr>\n",
       "  <th>Dep. Variable:</th>       <td>violations</td>    <th>  R-squared (uncentered):</th>      <td>   0.025</td>\n",
       "</tr>\n",
       "<tr>\n",
       "  <th>Model:</th>                   <td>OLS</td>       <th>  Adj. R-squared (uncentered):</th> <td>   0.022</td>\n",
       "</tr>\n",
       "<tr>\n",
       "  <th>Method:</th>             <td>Least Squares</td>  <th>  F-statistic:       </th>          <td>   7.584</td>\n",
       "</tr>\n",
       "<tr>\n",
       "  <th>Date:</th>             <td>Mon, 29 May 2023</td> <th>  Prob (F-statistic):</th>           <td>0.00625</td>\n",
       "</tr>\n",
       "<tr>\n",
       "  <th>Time:</th>                 <td>16:14:55</td>     <th>  Log-Likelihood:    </th>          <td> -1952.9</td>\n",
       "</tr>\n",
       "<tr>\n",
       "  <th>No. Observations:</th>      <td>   298</td>      <th>  AIC:               </th>          <td>   3908.</td>\n",
       "</tr>\n",
       "<tr>\n",
       "  <th>Df Residuals:</th>          <td>   297</td>      <th>  BIC:               </th>          <td>   3911.</td>\n",
       "</tr>\n",
       "<tr>\n",
       "  <th>Df Model:</th>              <td>     1</td>      <th>                     </th>              <td> </td>   \n",
       "</tr>\n",
       "<tr>\n",
       "  <th>Covariance Type:</th>      <td>nonrobust</td>    <th>                     </th>              <td> </td>   \n",
       "</tr>\n",
       "</table>\n",
       "<table class=\"simpletable\">\n",
       "<tr>\n",
       "   <td></td>     <th>coef</th>     <th>std err</th>      <th>t</th>      <th>P>|t|</th>  <th>[0.025</th>    <th>0.975]</th>  \n",
       "</tr>\n",
       "<tr>\n",
       "  <th>x1</th> <td>    2.6525</td> <td>    0.963</td> <td>    2.754</td> <td> 0.006</td> <td>    0.757</td> <td>    4.548</td>\n",
       "</tr>\n",
       "</table>\n",
       "<table class=\"simpletable\">\n",
       "<tr>\n",
       "  <th>Omnibus:</th>       <td>607.263</td> <th>  Durbin-Watson:     </th>  <td>   2.001</td> \n",
       "</tr>\n",
       "<tr>\n",
       "  <th>Prob(Omnibus):</th> <td> 0.000</td>  <th>  Jarque-Bera (JB):  </th> <td>446004.649</td>\n",
       "</tr>\n",
       "<tr>\n",
       "  <th>Skew:</th>          <td>13.265</td>  <th>  Prob(JB):          </th>  <td>    0.00</td> \n",
       "</tr>\n",
       "<tr>\n",
       "  <th>Kurtosis:</th>      <td>190.659</td> <th>  Cond. No.          </th>  <td>    1.00</td> \n",
       "</tr>\n",
       "</table><br/><br/>Notes:<br/>[1] R² is computed without centering (uncentered) since the model does not contain a constant.<br/>[2] Standard Errors assume that the covariance matrix of the errors is correctly specified."
      ],
      "text/plain": [
       "<class 'statsmodels.iolib.summary.Summary'>\n",
       "\"\"\"\n",
       "                                 OLS Regression Results                                \n",
       "=======================================================================================\n",
       "Dep. Variable:             violations   R-squared (uncentered):                   0.025\n",
       "Model:                            OLS   Adj. R-squared (uncentered):              0.022\n",
       "Method:                 Least Squares   F-statistic:                              7.584\n",
       "Date:                Mon, 29 May 2023   Prob (F-statistic):                     0.00625\n",
       "Time:                        16:14:55   Log-Likelihood:                         -1952.9\n",
       "No. Observations:                 298   AIC:                                      3908.\n",
       "Df Residuals:                     297   BIC:                                      3911.\n",
       "Df Model:                           1                                                  \n",
       "Covariance Type:            nonrobust                                                  \n",
       "==============================================================================\n",
       "                 coef    std err          t      P>|t|      [0.025      0.975]\n",
       "------------------------------------------------------------------------------\n",
       "x1             2.6525      0.963      2.754      0.006       0.757       4.548\n",
       "==============================================================================\n",
       "Omnibus:                      607.263   Durbin-Watson:                   2.001\n",
       "Prob(Omnibus):                  0.000   Jarque-Bera (JB):           446004.649\n",
       "Skew:                          13.265   Prob(JB):                         0.00\n",
       "Kurtosis:                     190.659   Cond. No.                         1.00\n",
       "==============================================================================\n",
       "\n",
       "Notes:\n",
       "[1] R² is computed without centering (uncentered) since the model does not contain a constant.\n",
       "[2] Standard Errors assume that the covariance matrix of the errors is correctly specified.\n",
       "\"\"\""
      ]
     },
     "execution_count": 14,
     "metadata": {},
     "output_type": "execute_result"
    }
   ],
   "source": [
    "# Creating the aux model\n",
    "aux_model = sm.OLS(pearson_stat, poisson_fitted).fit()\n",
    "aux_model.summary()"
   ]
  },
  {
   "cell_type": "markdown",
   "id": "b71c2f39",
   "metadata": {},
   "source": [
    "With a coefficient in the auxiliary model having a p-value of 0.006, and considering that the Cameron and Trivedi test for overdispersion aims to detect the presence of this phenomenon, we can conclude that there is statistically significant evidence of overdispersion in the Poisson model.\n",
    "\n",
    "The Poisson model will not be the most efficient for this dataset; therefore, a Negative Binomial model will be created and fitted."
   ]
  },
  {
   "cell_type": "code",
   "execution_count": 15,
   "id": "af91bba0",
   "metadata": {},
   "outputs": [
    {
     "name": "stdout",
     "output_type": "stream",
     "text": [
      "Optimization terminated successfully.\n",
      "         Current function value: 1.904031\n",
      "         Iterations: 19\n",
      "         Function evaluations: 23\n",
      "         Gradient evaluations: 23\n",
      "                     NegativeBinomial Regression Results                      \n",
      "==============================================================================\n",
      "Dep. Variable:                      y   No. Observations:                  298\n",
      "Model:               NegativeBinomial   Df Residuals:                      294\n",
      "Method:                           MLE   Df Model:                            3\n",
      "Date:                Mon, 29 May 2023   Pseudo R-squ.:                  0.1549\n",
      "Time:                        16:14:55   Log-Likelihood:                -567.40\n",
      "converged:                       True   LL-Null:                       -671.37\n",
      "Covariance Type:            nonrobust   LLR p-value:                 8.088e-45\n",
      "==============================================================================\n",
      "                 coef    std err          z      P>|z|      [0.025      0.975]\n",
      "------------------------------------------------------------------------------\n",
      "const          1.9469      0.205      9.477      0.000       1.544       2.350\n",
      "x1             0.0400      0.014      2.945      0.003       0.013       0.067\n",
      "x2            -4.2746      0.266    -16.065      0.000      -4.796      -3.753\n",
      "x3             0.4527      0.133      3.396      0.001       0.191       0.714\n",
      "alpha          2.0963      0.243      8.614      0.000       1.619       2.573\n",
      "==============================================================================\n"
     ]
    }
   ],
   "source": [
    "# Creating Negative Binomial Model\n",
    "bneg_model = sm.NegativeBinomial(y, sm.add_constant(X)).fit()\n",
    "print(bneg_model.summary())"
   ]
  },
  {
   "cell_type": "markdown",
   "id": "20532335",
   "metadata": {},
   "source": [
    "From the value of the log likelihood (the closer to zero, the better), we can observe that this model appears to be considerably better than the Poisson model. However, it is also necessary to test for zero-inflation in the data. For this purpose, the Vuong test will be used.\n",
    "\n",
    "To proceed with the Vuong test, a Zero-Inflated Negative Binomial model needs to be created. This model accounts for both overdispersion and excess zeros in the data. The Zero-Inflated Negative Binomial model combines a binary model (logistic regression) to model the presence of excess zeros and a count model (Negative Binomial regression) to model the count data. "
   ]
  },
  {
   "cell_type": "code",
   "execution_count": 16,
   "id": "b882afe5",
   "metadata": {},
   "outputs": [
    {
     "name": "stdout",
     "output_type": "stream",
     "text": [
      "Optimization terminated successfully.\n",
      "         Current function value: 1.876075\n",
      "         Iterations 12\n",
      "                     ZeroInflatedNegativeBinomialP Regression Results                    \n",
      "=========================================================================================\n",
      "Dep. Variable:                                 y   No. Observations:                  298\n",
      "Model:             ZeroInflatedNegativeBinomialP   Df Residuals:                      294\n",
      "Method:                                      MLE   Df Model:                            3\n",
      "Date:                           Mon, 29 May 2023   Pseudo R-squ.:                  0.1673\n",
      "Time:                                   16:14:55   Log-Likelihood:                -559.07\n",
      "converged:                                  True   LL-Null:                       -671.37\n",
      "Covariance Type:                       nonrobust   LLR p-value:                 2.025e-48\n",
      "=================================================================================\n",
      "                    coef    std err          z      P>|z|      [0.025      0.975]\n",
      "---------------------------------------------------------------------------------\n",
      "inflate_const    -5.9606      2.403     -2.480      0.013     -10.671      -1.250\n",
      "inflate_x1        0.0697      0.045      1.551      0.121      -0.018       0.158\n",
      "inflate_x2        0.4815      1.512      0.319      0.750      -2.482       3.445\n",
      "inflate_x3       -2.2505      0.848     -2.653      0.008      -3.913      -0.588\n",
      "const             1.8731      0.291      6.429      0.000       1.302       2.444\n",
      "x1                0.0562      0.023      2.446      0.014       0.011       0.101\n",
      "x2               -4.2164      0.272    -15.483      0.000      -4.750      -3.683\n",
      "x3                0.1707      0.151      1.132      0.258      -0.125       0.466\n",
      "alpha             1.7606      0.219      8.052      0.000       1.332       2.189\n",
      "=================================================================================\n"
     ]
    }
   ],
   "source": [
    "# Creating Zero-Inflated Negative Binomial Model \n",
    "zinb_model = sm.ZeroInflatedNegativeBinomialP(y, sm.add_constant(X), exog_infl=sm.add_constant(X), method='nm', maxiter=10000).fit(method='newton')\n",
    "print(zinb_model.summary())"
   ]
  },
  {
   "cell_type": "markdown",
   "id": "34765b48",
   "metadata": {},
   "source": [
    "After fitting the model and interpreting its outputs, it can be observed that, unlike the Poisson and Negative Binomial models, the ZINB model has coefficients that are not statistically significant.\n",
    "\n",
    "The p-values associated with the first two variables (staff and post) in the inflationary part, as well as the p-value associated with the last variable (corruption), are greater than 0.05. This indicates that these variables are not statistically significant for the model, considering a significance level of 5%. Therefore, a new model will be created excluding these variables."
   ]
  },
  {
   "cell_type": "code",
   "execution_count": 17,
   "id": "8bd42254",
   "metadata": {},
   "outputs": [
    {
     "name": "stdout",
     "output_type": "stream",
     "text": [
      "Warning: Maximum number of iterations has been exceeded.\n",
      "         Current function value: 1.872522\n",
      "         Iterations: 35\n",
      "         Function evaluations: 39\n",
      "         Gradient evaluations: 39\n",
      "                     ZeroInflatedNegativeBinomialP Regression Results                    \n",
      "=========================================================================================\n",
      "Dep. Variable:                                 y   No. Observations:                  298\n",
      "Model:             ZeroInflatedNegativeBinomialP   Df Residuals:                      295\n",
      "Method:                                      MLE   Df Model:                            2\n",
      "Date:                           Mon, 29 May 2023   Pseudo R-squ.:                  0.1689\n",
      "Time:                                   16:14:55   Log-Likelihood:                -558.01\n",
      "converged:                                 False   LL-Null:                       -671.37\n",
      "Covariance Type:                       nonrobust   LLR p-value:                 5.847e-50\n",
      "=================================================================================\n",
      "                    coef    std err          z      P>|z|      [0.025      0.975]\n",
      "---------------------------------------------------------------------------------\n",
      "inflate_const   -17.8589      9.103     -1.962      0.050     -35.700      -0.018\n",
      "inflate_x1       -8.1162      3.978     -2.040      0.041     -15.913      -0.319\n",
      "const             2.1019      0.196     10.741      0.000       1.718       2.485\n",
      "x1                0.0388      0.013      2.989      0.003       0.013       0.064\n",
      "x2               -4.2614      0.261    -16.315      0.000      -4.773      -3.750\n",
      "alpha             1.8619      0.218      8.524      0.000       1.434       2.290\n",
      "=================================================================================\n"
     ]
    }
   ],
   "source": [
    "# Creating Zero-Inflated Negative Binomial Model (Relevant variables)\n",
    "zinb_model = sm.ZeroInflatedNegativeBinomialP(endog=y,\n",
    "                                    exog=sm.add_constant(np.delete(X, [2], 1)),\n",
    "                                    exog_infl=sm.add_constant(np.delete(X, [0,1], 1))).fit()\n",
    "print(zinb_model.summary())"
   ]
  },
  {
   "cell_type": "code",
   "execution_count": 18,
   "id": "10d670ff",
   "metadata": {},
   "outputs": [],
   "source": [
    "# Function for vuong test\n",
    "def vuong_test(mod1, mod2, correction=True):\n",
    "    '''\n",
    "    mod1, mod2 - non-nested logitstic regression fit results from statsmodels\n",
    "    '''\n",
    "    # number of observations and check of models\n",
    "    N = mod1.nobs\n",
    "    N2 = mod2.nobs\n",
    "    if N != N2:\n",
    "        raise ValueError('Models do not have the same number of observations')\n",
    "        \n",
    "    # extract the log-likelihood for individual points with the models\n",
    "    m1 = mod1.model.loglikeobs(mod1.params)\n",
    "    m2 = mod2.model.loglikeobs(mod2.params)\n",
    "    \n",
    "    # point-wise log likelihood ratio\n",
    "    m = m1 - m2\n",
    "    \n",
    "    # calculate the LR statistic\n",
    "    LR = np.sum(m)\n",
    "    \n",
    "    # calculate the AIC and BIC correction factors -> these go to zero when df is same between models\n",
    "    AICcor = mod1.df_model - mod2.df_model\n",
    "    BICcor = np.log(N)*AICcor/2\n",
    "    \n",
    "    # calculate the omega^2 term\n",
    "    omega2 = np.var(m, ddof=1)\n",
    "    \n",
    "    # calculate the Z statistic with and without corrections\n",
    "    Zs = np.array([LR,LR-AICcor,LR-BICcor])\n",
    "    Zs /= np.sqrt(N*omega2)\n",
    "    \n",
    "    # P vals\n",
    "    ps = []\n",
    "    msgs = []\n",
    "    for Z in Zs:\n",
    "        if Z>0:\n",
    "            ps.append(1 - stats.norm.cdf(Z))\n",
    "            msgs.append('model 1 preferred over model 2')\n",
    "        else:\n",
    "            ps.append(stats.norm.cdf(Z))\n",
    "            msgs.append('model 2 preferred over model 1')\n",
    " \n",
    "    # Information\n",
    "    print('=== Vuong Test Results ===')\n",
    "    labs = ['Uncorrected']\n",
    "    if AICcor!=0:\n",
    "        labs += ['AIC Corrected','BIC Corrected']\n",
    "    for lab,msg,p,Z in zip(labs,msgs,ps,Zs):\n",
    "        print('  -> '+lab)\n",
    "        print('    -> '+msg)\n",
    "        print('    -> Z: '+str(Z))\n",
    "        print('    -> p: '+str(p))"
   ]
  },
  {
   "cell_type": "code",
   "execution_count": 19,
   "id": "e2fb0221",
   "metadata": {},
   "outputs": [
    {
     "name": "stdout",
     "output_type": "stream",
     "text": [
      "=== Vuong Test Results ===\n",
      "  -> Uncorrected\n",
      "    -> model 1 preferred over model 2\n",
      "    -> Z: 1.4014305166586813\n",
      "    -> p: 0.08054268600903436\n",
      "  -> AIC Corrected\n",
      "    -> model 1 preferred over model 2\n",
      "    -> Z: 1.5506816624544655\n",
      "    -> p: 0.060488995580165184\n",
      "  -> BIC Corrected\n",
      "    -> model 1 preferred over model 2\n",
      "    -> Z: 1.8265793819419966\n",
      "    -> p: 0.033881517871839684\n"
     ]
    }
   ],
   "source": [
    "# Applying the Vuong test for zinb and bneg models\n",
    "vuong_test(zinb_model, bneg_model)"
   ]
  },
  {
   "cell_type": "markdown",
   "id": "c6d8b4eb",
   "metadata": {},
   "source": [
    "According to the results of the Vuong test, using different corrections, it is indicated that the ZINB model is preferred over the Negative Binomial model in all cases. This is suggested by the positive Z statistics and p-values greater than 0.05.\n",
    "\n",
    "Therefore, the ZINB model appears to be the ideal model for this dataset. However, for comparison purposes, a ZIP (Zero-Inflated Poisson) model will also be fitted to the data."
   ]
  },
  {
   "cell_type": "code",
   "execution_count": 20,
   "id": "87972a05",
   "metadata": {},
   "outputs": [
    {
     "name": "stdout",
     "output_type": "stream",
     "text": [
      "Warning: Maximum number of iterations has been exceeded.\n",
      "         Current function value: 5.976352\n",
      "         Iterations: 35\n",
      "         Function evaluations: 40\n",
      "         Gradient evaluations: 40\n",
      "                     ZeroInflatedPoisson Regression Results                    \n",
      "===============================================================================\n",
      "Dep. Variable:                       y   No. Observations:                  298\n",
      "Model:             ZeroInflatedPoisson   Df Residuals:                      294\n",
      "Method:                            MLE   Df Model:                            3\n",
      "Date:                 Mon, 29 May 2023   Pseudo R-squ.:                  0.1977\n",
      "Time:                         16:14:55   Log-Likelihood:                -1781.0\n",
      "converged:                       False   LL-Null:                       -2219.8\n",
      "Covariance Type:             nonrobust   LLR p-value:                6.190e-190\n",
      "=================================================================================\n",
      "                    coef    std err          z      P>|z|      [0.025      0.975]\n",
      "---------------------------------------------------------------------------------\n",
      "inflate_const    -1.3823      0.390     -3.547      0.000      -2.146      -0.618\n",
      "inflate_x1       -0.0203      0.028     -0.730      0.465      -0.075       0.034\n",
      "inflate_x2       -0.6006      1.388     -0.433      0.665      -3.320       2.119\n",
      "inflate_x3       -1.0431      0.225     -4.629      0.000      -1.485      -0.601\n",
      "const             2.4891      0.031     79.030      0.000       2.427       2.551\n",
      "x1                0.0200      0.001     16.141      0.000       0.018       0.022\n",
      "x2               -4.3702      0.199    -21.931      0.000      -4.761      -3.980\n",
      "x3                0.0946      0.030      3.159      0.002       0.036       0.153\n",
      "=================================================================================\n"
     ]
    }
   ],
   "source": [
    "# Creating ZIP model\n",
    "zip_model = sm.ZeroInflatedPoisson(endog=y,\n",
    "                                    exog=sm.add_constant(X),\n",
    "                                    exog_infl=sm.add_constant(X)).fit()\n",
    "print(zip_model.summary())"
   ]
  },
  {
   "cell_type": "markdown",
   "id": "991b0e38",
   "metadata": {},
   "source": [
    "Once again, some coefficients have been found to be statistically insignificant and will be disregarded."
   ]
  },
  {
   "cell_type": "code",
   "execution_count": 21,
   "id": "95431fff",
   "metadata": {},
   "outputs": [
    {
     "name": "stdout",
     "output_type": "stream",
     "text": [
      "Optimization terminated successfully.\n",
      "         Current function value: 5.977545\n",
      "         Iterations: 22\n",
      "         Function evaluations: 27\n",
      "         Gradient evaluations: 27\n",
      "                     ZeroInflatedPoisson Regression Results                    \n",
      "===============================================================================\n",
      "Dep. Variable:                       y   No. Observations:                  298\n",
      "Model:             ZeroInflatedPoisson   Df Residuals:                      294\n",
      "Method:                            MLE   Df Model:                            3\n",
      "Date:                 Mon, 29 May 2023   Pseudo R-squ.:                  0.1975\n",
      "Time:                         16:14:55   Log-Likelihood:                -1781.3\n",
      "converged:                        True   LL-Null:                       -2219.8\n",
      "Covariance Type:             nonrobust   LLR p-value:                8.828e-190\n",
      "=================================================================================\n",
      "                    coef    std err          z      P>|z|      [0.025      0.975]\n",
      "---------------------------------------------------------------------------------\n",
      "inflate_const    -1.6116      0.240     -6.714      0.000      -2.082      -1.141\n",
      "inflate_x1       -0.9523      0.195     -4.875      0.000      -1.335      -0.569\n",
      "const             2.4889      0.032     78.990      0.000       2.427       2.551\n",
      "x1                0.0200      0.001     16.154      0.000       0.018       0.022\n",
      "x2               -4.2879      0.201    -21.291      0.000      -4.683      -3.893\n",
      "x3                0.0937      0.030      3.127      0.002       0.035       0.152\n",
      "=================================================================================\n"
     ]
    }
   ],
   "source": [
    "# Creating ZIP model\n",
    "zip_model = sm.ZeroInflatedPoisson(endog=y,\n",
    "                                    exog=sm.add_constant(X),\n",
    "                                    exog_infl=sm.add_constant(np.delete(X, [0,1], 1))).fit()\n",
    "print(zip_model.summary())"
   ]
  },
  {
   "cell_type": "markdown",
   "id": "2602f7ee",
   "metadata": {},
   "source": [
    "## Interpreting the Results\n",
    "\n",
    "Considering the log-likelihood of the models, the ZINB model had the best fit, as expected, since zero inflation and overdispersion were observed in the data. The Negative Binomial model also had a good fit."
   ]
  },
  {
   "cell_type": "code",
   "execution_count": 22,
   "id": "1d61bada",
   "metadata": {},
   "outputs": [
    {
     "data": {
      "text/html": [
       "<div>\n",
       "<style scoped>\n",
       "    .dataframe tbody tr th:only-of-type {\n",
       "        vertical-align: middle;\n",
       "    }\n",
       "\n",
       "    .dataframe tbody tr th {\n",
       "        vertical-align: top;\n",
       "    }\n",
       "\n",
       "    .dataframe thead th {\n",
       "        text-align: right;\n",
       "    }\n",
       "</style>\n",
       "<table border=\"1\" class=\"dataframe\">\n",
       "  <thead>\n",
       "    <tr style=\"text-align: right;\">\n",
       "      <th></th>\n",
       "      <th>loglike</th>\n",
       "    </tr>\n",
       "  </thead>\n",
       "  <tbody>\n",
       "    <tr>\n",
       "      <th>Poisson</th>\n",
       "      <td>-2071.793753</td>\n",
       "    </tr>\n",
       "    <tr>\n",
       "      <th>Bneg</th>\n",
       "      <td>-567.401172</td>\n",
       "    </tr>\n",
       "    <tr>\n",
       "      <th>ZIP</th>\n",
       "      <td>-1781.308425</td>\n",
       "    </tr>\n",
       "    <tr>\n",
       "      <th>ZINB</th>\n",
       "      <td>-558.011425</td>\n",
       "    </tr>\n",
       "  </tbody>\n",
       "</table>\n",
       "</div>"
      ],
      "text/plain": [
       "             loglike\n",
       "Poisson -2071.793753\n",
       "Bneg     -567.401172\n",
       "ZIP     -1781.308425\n",
       "ZINB     -558.011425"
      ]
     },
     "execution_count": 22,
     "metadata": {},
     "output_type": "execute_result"
    }
   ],
   "source": [
    "# Creating DataFrame\n",
    "df_ll = pd.DataFrame(index=['Poisson', 'Bneg', 'ZIP', 'ZINB'])\n",
    "df_ll['loglike'] = [poisson_model.llf, bneg_model.llf, zip_model.llf, zinb_model.llf]\n",
    "df_ll"
   ]
  },
  {
   "cell_type": "code",
   "execution_count": 23,
   "id": "5966b266",
   "metadata": {},
   "outputs": [
    {
     "data": {
      "image/png": "[encoded data removed]",
      "text/plain": [
       "<Figure size 640x480 with 1 Axes>"
      ]
     },
     "metadata": {},
     "output_type": "display_data"
    }
   ],
   "source": [
    "# Plotting Models LL over bars\n",
    "plt.bar(df_ll.index, df_ll['loglike'])\n",
    "plt.xlabel('Models')\n",
    "plt.ylabel('Loglike')\n",
    "plt.title('Models Log-Likeliihood', size=15);"
   ]
  },
  {
   "cell_type": "markdown",
   "id": "4e67b65c",
   "metadata": {},
   "source": [
    "The values and the graph show that these two models had a considerably lower log likelihood (indicating better fit) compared to the Poisson and ZIP models."
   ]
  }
 ],
 "metadata": {
  "kernelspec": {
   "display_name": "Python 3",
   "language": "python",
   "name": "python3"
  },
  "language_info": {
   "codemirror_mode": {
    "name": "ipython",
    "version": 3
   },
   "file_extension": ".py",
   "mimetype": "text/x-python",
   "name": "python",
   "nbconvert_exporter": "python",
   "pygments_lexer": "ipython3",
   "version": "3.9.13"
  }
 },
 "nbformat": 4,
 "nbformat_minor": 5
}
