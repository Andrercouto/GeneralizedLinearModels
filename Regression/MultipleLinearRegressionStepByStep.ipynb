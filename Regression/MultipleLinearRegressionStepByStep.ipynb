{
 "cells": [
  {
   "cell_type": "markdown",
   "id": "e02e0ddb",
   "metadata": {},
   "source": [
    "# Multiple Linear Regression Step by Step\n",
    "\n",
    "The following script outlines the application of the Multiple Linear Regression technique step by step and verifies if the obtained outputs correspond to the results from the [scikit-learn](https://scikit-learn.org/stable/) library.\n",
    "\n",
    "# Step by step implementation\n",
    "\n",
    "Step-by-Step Implementation:\n",
    "\n",
    "- Check the dataset (cleaning, descriptive statistics, correlations).\n",
    "\n",
    "- Adjust the model equation using the least squares method.\n",
    "\n",
    "- Calculate the root mean squared error (or R²) to determine if the dependent variable can be predicted by the parameters used.\n",
    "\n",
    "- Use the F-statistic value to check if at least one of the independent variables is statistically significant.\n",
    "\n",
    "- Check the statistical significance of each independent variable individually (and drop columns that are not significant).\n",
    "\n",
    "- Test the normality of the residuals\n",
    "\n",
    "- Compare the results."
   ]
  },
  {
   "cell_type": "markdown",
   "id": "97df4eca",
   "metadata": {},
   "source": [
    "### Checking the Dataset"
   ]
  },
  {
   "cell_type": "code",
   "execution_count": 1,
   "id": "b4b84d90",
   "metadata": {},
   "outputs": [],
   "source": [
    "# Libraries needed\n",
    "import pandas as pd\n",
    "import numpy as np\n",
    "from scipy import stats\n",
    "import matplotlib.pyplot as plt\n",
    "import seaborn as sns\n",
    "import warnings\n",
    "\n",
    "sns.set()\n",
    "warnings.filterwarnings(\"ignore\")"
   ]
  },
  {
   "cell_type": "code",
   "execution_count": 2,
   "id": "aa3ed841",
   "metadata": {},
   "outputs": [
    {
     "data": {
      "text/html": [
       "<div>\n",
       "<style scoped>\n",
       "    .dataframe tbody tr th:only-of-type {\n",
       "        vertical-align: middle;\n",
       "    }\n",
       "\n",
       "    .dataframe tbody tr th {\n",
       "        vertical-align: top;\n",
       "    }\n",
       "\n",
       "    .dataframe thead th {\n",
       "        text-align: right;\n",
       "    }\n",
       "</style>\n",
       "<table border=\"1\" class=\"dataframe\">\n",
       "  <thead>\n",
       "    <tr style=\"text-align: right;\">\n",
       "      <th></th>\n",
       "      <th>TV</th>\n",
       "      <th>Radio</th>\n",
       "      <th>Newspaper</th>\n",
       "      <th>Sales</th>\n",
       "    </tr>\n",
       "  </thead>\n",
       "  <tbody>\n",
       "    <tr>\n",
       "      <th>0</th>\n",
       "      <td>230.1</td>\n",
       "      <td>37.8</td>\n",
       "      <td>69.2</td>\n",
       "      <td>22.1</td>\n",
       "    </tr>\n",
       "    <tr>\n",
       "      <th>1</th>\n",
       "      <td>44.5</td>\n",
       "      <td>39.3</td>\n",
       "      <td>45.1</td>\n",
       "      <td>10.4</td>\n",
       "    </tr>\n",
       "    <tr>\n",
       "      <th>2</th>\n",
       "      <td>17.2</td>\n",
       "      <td>45.9</td>\n",
       "      <td>69.3</td>\n",
       "      <td>12.0</td>\n",
       "    </tr>\n",
       "    <tr>\n",
       "      <th>3</th>\n",
       "      <td>151.5</td>\n",
       "      <td>41.3</td>\n",
       "      <td>58.5</td>\n",
       "      <td>16.5</td>\n",
       "    </tr>\n",
       "    <tr>\n",
       "      <th>4</th>\n",
       "      <td>180.8</td>\n",
       "      <td>10.8</td>\n",
       "      <td>58.4</td>\n",
       "      <td>17.9</td>\n",
       "    </tr>\n",
       "  </tbody>\n",
       "</table>\n",
       "</div>"
      ],
      "text/plain": [
       "      TV  Radio  Newspaper  Sales\n",
       "0  230.1   37.8       69.2   22.1\n",
       "1   44.5   39.3       45.1   10.4\n",
       "2   17.2   45.9       69.3   12.0\n",
       "3  151.5   41.3       58.5   16.5\n",
       "4  180.8   10.8       58.4   17.9"
      ]
     },
     "execution_count": 2,
     "metadata": {},
     "output_type": "execute_result"
    }
   ],
   "source": [
    "# Check train Data\n",
    "df_adver = pd.read_csv('Data/advertising.csv', index_col=0)\n",
    "df_adver.head(5)"
   ]
  },
  {
   "cell_type": "code",
   "execution_count": 3,
   "id": "d0bd38ad",
   "metadata": {},
   "outputs": [
    {
     "data": {
      "text/plain": [
       "TV           0\n",
       "Radio        0\n",
       "Newspaper    0\n",
       "Sales        0\n",
       "dtype: int64"
      ]
     },
     "execution_count": 3,
     "metadata": {},
     "output_type": "execute_result"
    }
   ],
   "source": [
    "# Checking null values\n",
    "df_adver.isna().sum()"
   ]
  },
  {
   "cell_type": "code",
   "execution_count": 4,
   "id": "34139fbe",
   "metadata": {},
   "outputs": [
    {
     "data": {
      "text/plain": [
       "TV           float64\n",
       "Radio        float64\n",
       "Newspaper    float64\n",
       "Sales        float64\n",
       "dtype: object"
      ]
     },
     "execution_count": 4,
     "metadata": {},
     "output_type": "execute_result"
    }
   ],
   "source": [
    "# Checking parameters types\n",
    "df_adver.dtypes"
   ]
  },
  {
   "cell_type": "code",
   "execution_count": 5,
   "id": "4d0cfe81",
   "metadata": {},
   "outputs": [
    {
     "data": {
      "text/html": [
       "<div>\n",
       "<style scoped>\n",
       "    .dataframe tbody tr th:only-of-type {\n",
       "        vertical-align: middle;\n",
       "    }\n",
       "\n",
       "    .dataframe tbody tr th {\n",
       "        vertical-align: top;\n",
       "    }\n",
       "\n",
       "    .dataframe thead th {\n",
       "        text-align: right;\n",
       "    }\n",
       "</style>\n",
       "<table border=\"1\" class=\"dataframe\">\n",
       "  <thead>\n",
       "    <tr style=\"text-align: right;\">\n",
       "      <th></th>\n",
       "      <th>mean</th>\n",
       "      <th>std</th>\n",
       "      <th>min</th>\n",
       "      <th>25%</th>\n",
       "      <th>50%</th>\n",
       "      <th>75%</th>\n",
       "      <th>max</th>\n",
       "    </tr>\n",
       "  </thead>\n",
       "  <tbody>\n",
       "    <tr>\n",
       "      <th>TV</th>\n",
       "      <td>146.26</td>\n",
       "      <td>84.63</td>\n",
       "      <td>4.1</td>\n",
       "      <td>74.80</td>\n",
       "      <td>148.50</td>\n",
       "      <td>218.22</td>\n",
       "      <td>296.4</td>\n",
       "    </tr>\n",
       "    <tr>\n",
       "      <th>Radio</th>\n",
       "      <td>23.44</td>\n",
       "      <td>14.86</td>\n",
       "      <td>0.0</td>\n",
       "      <td>10.02</td>\n",
       "      <td>23.95</td>\n",
       "      <td>36.58</td>\n",
       "      <td>49.6</td>\n",
       "    </tr>\n",
       "    <tr>\n",
       "      <th>Newspaper</th>\n",
       "      <td>30.91</td>\n",
       "      <td>21.80</td>\n",
       "      <td>0.9</td>\n",
       "      <td>12.95</td>\n",
       "      <td>26.30</td>\n",
       "      <td>45.18</td>\n",
       "      <td>114.0</td>\n",
       "    </tr>\n",
       "    <tr>\n",
       "      <th>Sales</th>\n",
       "      <td>15.17</td>\n",
       "      <td>5.26</td>\n",
       "      <td>3.2</td>\n",
       "      <td>11.00</td>\n",
       "      <td>15.95</td>\n",
       "      <td>19.15</td>\n",
       "      <td>27.0</td>\n",
       "    </tr>\n",
       "  </tbody>\n",
       "</table>\n",
       "</div>"
      ],
      "text/plain": [
       "             mean    std  min    25%     50%     75%    max\n",
       "TV         146.26  84.63  4.1  74.80  148.50  218.22  296.4\n",
       "Radio       23.44  14.86  0.0  10.02   23.95   36.58   49.6\n",
       "Newspaper   30.91  21.80  0.9  12.95   26.30   45.18  114.0\n",
       "Sales       15.17   5.26  3.2  11.00   15.95   19.15   27.0"
      ]
     },
     "execution_count": 5,
     "metadata": {},
     "output_type": "execute_result"
    }
   ],
   "source": [
    "# Descriptive statistics\n",
    "df_adver.describe().T.round(2).drop('count',1)"
   ]
  },
  {
   "cell_type": "markdown",
   "id": "b63b6f06",
   "metadata": {},
   "source": [
    "Apparently there's no outliers on the Dataset that could harm the model results. There's no null values either."
   ]
  },
  {
   "cell_type": "code",
   "execution_count": 6,
   "id": "37550373",
   "metadata": {},
   "outputs": [
    {
     "data": {
      "image/png": "[encoded data removed]",
      "text/plain": [
       "<Figure size 640x480 with 2 Axes>"
      ]
     },
     "metadata": {},
     "output_type": "display_data"
    }
   ],
   "source": [
    "# Checking Correlations\n",
    "sns.heatmap(df_adver.corr(), annot=True, cmap=\"Blues\")\n",
    "plt.title('Correlation Matrix', size=15);"
   ]
  },
  {
   "cell_type": "markdown",
   "id": "1a6f6ca7",
   "metadata": {},
   "source": [
    "All the other parameters have a positive correlation with 'Sales', specially 'TV'.\n",
    "\n",
    "It's usefull creating scatter plots."
   ]
  },
  {
   "cell_type": "code",
   "execution_count": 7,
   "id": "22fa01b0",
   "metadata": {},
   "outputs": [
    {
     "data": {
      "image/png": "[encoded data removed]",
      "text/plain": [
       "<Figure size 600x300 with 1 Axes>"
      ]
     },
     "metadata": {},
     "output_type": "display_data"
    },
    {
     "data": {
      "image/png": "[encoded data removed]",
      "text/plain": [
       "<Figure size 600x300 with 1 Axes>"
      ]
     },
     "metadata": {},
     "output_type": "display_data"
    },
    {
     "data": {
      "image/png": "[encoded data removed]",
      "text/plain": [
       "<Figure size 600x300 with 1 Axes>"
      ]
     },
     "metadata": {},
     "output_type": "display_data"
    }
   ],
   "source": [
    "# Scatter Diagram Sales x TV\n",
    "plt.figure(figsize=(6,3))\n",
    "plt.scatter(df_adver['Sales'], df_adver['TV'], s=15, alpha=.5)\n",
    "plt.xlabel('Sales', size=10)\n",
    "plt.ylabel('TV', size=10)\n",
    "plt.title('Scatter Diagram: Sales x TV', size=15);\n",
    "\n",
    "# Scatter Diagram Sales x Radio\n",
    "plt.figure(figsize=(6,3))\n",
    "plt.scatter(df_adver['Sales'], df_adver['Radio'], s=15, alpha=.5)\n",
    "plt.xlabel('Sales', size=10)\n",
    "plt.ylabel('Radio', size=10)\n",
    "plt.title('Scatter Diagram: Sales x Radio', size=15);\n",
    "\n",
    "# Scatter Diagram Sales x Newspaper\n",
    "plt.figure(figsize=(6,3))\n",
    "plt.scatter(df_adver['Sales'], df_adver['Newspaper'], s=15, alpha=.5)\n",
    "plt.xlabel('Sales', size=10)\n",
    "plt.ylabel('Newspaper', size=10)\n",
    "plt.title('Scatter Diagram: Sales x Newspaper', size=15);"
   ]
  },
  {
   "cell_type": "markdown",
   "id": "a8616757",
   "metadata": {},
   "source": [
    "It's noticed by the scatter plots that 'TV' has a bigger correlation with the sales than the other variables.\n",
    "\n",
    "### Adjusting the model\n",
    "\n",
    "The method of least squares involves minimizing the sum of the squared differences between the observed data points and the predicted values from a linear model. The covariation between two variables is a measure of how they vary together, and is closely related to the slope of the regression line in a linear model. Specifically, the slope of the regression line is equal to the covariance of the two variables divided by the variance of the independent variable."
   ]
  },
  {
   "cell_type": "code",
   "execution_count": 8,
   "id": "b7bfa5b2",
   "metadata": {},
   "outputs": [],
   "source": [
    "# Covariance Matrix\n",
    "df_cov = pd.DataFrame(index = df_adver.columns[:-1], columns = df_adver.columns)\n",
    "for idx in df_cov.index:\n",
    "    for col in df_cov.columns:\n",
    "        df_cov[col].loc[idx] = np.cov(np.array(df_adver[idx]), np.array(df_adver[col]))[0][1]"
   ]
  },
  {
   "cell_type": "code",
   "execution_count": 9,
   "id": "fb029c2b",
   "metadata": {},
   "outputs": [
    {
     "name": "stdout",
     "output_type": "stream",
     "text": [
      "The equation is: yi = 4.5204 + (0.0548 * x1) + (0.1121 * x2) + (-6.45e-05 * x3)\n"
     ]
    }
   ],
   "source": [
    "# Separating A and b\n",
    "A = df_cov.iloc[0:3,0:3].values.astype(float)\n",
    "b = df_cov['Sales'].values.astype(float)\n",
    "\n",
    "coef = np.linalg.solve(A,b)\n",
    "\n",
    "intercept = df_adver.mean()[len(df_adver.mean())-1]\n",
    "for i in range(0, len(df_adver.mean())-1):\n",
    "    intercept -= df_adver.mean()[i] * coef[i]\n",
    "    \n",
    "print(f'The equation is: yi = {round(intercept,4)} + ({round(coef[0],4)} * x1) + ({round(coef[1],4)} * x2) + ({round(coef[2],7)} * x3)')"
   ]
  },
  {
   "cell_type": "markdown",
   "id": "b28f0500",
   "metadata": {},
   "source": [
    "### R-squared\n",
    "\n",
    "Tthe fitted value of the dependent variable is equal to the intercept plus the sum of the products of the coefficients and independent variables."
   ]
  },
  {
   "cell_type": "code",
   "execution_count": 10,
   "id": "1873828c",
   "metadata": {},
   "outputs": [
    {
     "data": {
      "text/html": [
       "<div>\n",
       "<style scoped>\n",
       "    .dataframe tbody tr th:only-of-type {\n",
       "        vertical-align: middle;\n",
       "    }\n",
       "\n",
       "    .dataframe tbody tr th {\n",
       "        vertical-align: top;\n",
       "    }\n",
       "\n",
       "    .dataframe thead th {\n",
       "        text-align: right;\n",
       "    }\n",
       "</style>\n",
       "<table border=\"1\" class=\"dataframe\">\n",
       "  <thead>\n",
       "    <tr style=\"text-align: right;\">\n",
       "      <th></th>\n",
       "      <th>TV</th>\n",
       "      <th>Radio</th>\n",
       "      <th>Newspaper</th>\n",
       "      <th>Sales</th>\n",
       "      <th>fitted_Sales</th>\n",
       "    </tr>\n",
       "  </thead>\n",
       "  <tbody>\n",
       "    <tr>\n",
       "      <th>0</th>\n",
       "      <td>230.1</td>\n",
       "      <td>37.8</td>\n",
       "      <td>69.2</td>\n",
       "      <td>22.1</td>\n",
       "      <td>21.371518</td>\n",
       "    </tr>\n",
       "    <tr>\n",
       "      <th>1</th>\n",
       "      <td>44.5</td>\n",
       "      <td>39.3</td>\n",
       "      <td>45.1</td>\n",
       "      <td>10.4</td>\n",
       "      <td>11.363536</td>\n",
       "    </tr>\n",
       "    <tr>\n",
       "      <th>2</th>\n",
       "      <td>17.2</td>\n",
       "      <td>45.9</td>\n",
       "      <td>69.3</td>\n",
       "      <td>12.0</td>\n",
       "      <td>10.604833</td>\n",
       "    </tr>\n",
       "    <tr>\n",
       "      <th>3</th>\n",
       "      <td>151.5</td>\n",
       "      <td>41.3</td>\n",
       "      <td>58.5</td>\n",
       "      <td>16.5</td>\n",
       "      <td>17.454413</td>\n",
       "    </tr>\n",
       "    <tr>\n",
       "      <th>4</th>\n",
       "      <td>180.8</td>\n",
       "      <td>10.8</td>\n",
       "      <td>58.4</td>\n",
       "      <td>17.9</td>\n",
       "      <td>15.641904</td>\n",
       "    </tr>\n",
       "  </tbody>\n",
       "</table>\n",
       "</div>"
      ],
      "text/plain": [
       "      TV  Radio  Newspaper  Sales  fitted_Sales\n",
       "0  230.1   37.8       69.2   22.1     21.371518\n",
       "1   44.5   39.3       45.1   10.4     11.363536\n",
       "2   17.2   45.9       69.3   12.0     10.604833\n",
       "3  151.5   41.3       58.5   16.5     17.454413\n",
       "4  180.8   10.8       58.4   17.9     15.641904"
      ]
     },
     "execution_count": 10,
     "metadata": {},
     "output_type": "execute_result"
    }
   ],
   "source": [
    "# Obtaining the fitted values\n",
    "df_adver['fitted_Sales'] = intercept\n",
    "for i in range (0, len(df_adver.columns)-2):\n",
    "    df_adver['fitted_Sales'] += df_adver.iloc[:,i]*coef[i]\n",
    "df_adver.head(5)"
   ]
  },
  {
   "cell_type": "code",
   "execution_count": 11,
   "id": "756f2f36",
   "metadata": {},
   "outputs": [
    {
     "name": "stdout",
     "output_type": "stream",
     "text": [
      "R²: 0.931\n"
     ]
    }
   ],
   "source": [
    "# Getting R²\n",
    "residuals = df_adver['fitted_Sales'] - df_adver['Sales']\n",
    "soma_quad_fitted_med = ((df_adver['fitted_Sales']-df_adver['Sales'].mean())**2).sum()\n",
    "soma_quad_fitted_real = (residuals**2).sum()\n",
    "R = soma_quad_fitted_med / (soma_quad_fitted_med + soma_quad_fitted_real)\n",
    "print(f'R²: {round(R,4)}')"
   ]
  },
  {
   "cell_type": "markdown",
   "id": "fd265681",
   "metadata": {},
   "source": [
    "An R² value of 0.93 means that 93% of the variability in the dependent variable (the variable being predicted) is explained by the independent variables included in the model.\n",
    "\n",
    "Even with a high R² value, some other statistical tests should be performed to confirm that the model is well-fitted.\n",
    "\n",
    "## F and T-Test\n",
    "\n",
    "The F-test checks whether at least one of the coefficients is statistically significant for the model (at a 95% confidence level)."
   ]
  },
  {
   "cell_type": "code",
   "execution_count": 12,
   "id": "c8ca5350",
   "metadata": {},
   "outputs": [
    {
     "name": "stdout",
     "output_type": "stream",
     "text": [
      "F-statistic: 836.6136, p-value: 0.0.\n",
      "At least one 𝛽 is significant.\n"
     ]
    }
   ],
   "source": [
    "# F-Test\n",
    "dof1 = len(df_adver.columns) - 2\n",
    "dof2 = len(df_adver) - dof1 -1\n",
    "f_stat = ((soma_quad_fitted_med/dof1)/(soma_quad_fitted_real/dof2))\n",
    "    \n",
    "# P-value for F-Test\n",
    "pvalf = 1-stats.f.cdf(f_stat, dof1, dof2)\n",
    "print(f'F-statistic: {round(f_stat, 4)}, p-value: {round(pvalf, 4)}.')\n",
    "    \n",
    "# Checking significance\n",
    "if pvalf < 0.05:\n",
    "    print('At least one 𝛽 is significant.')\n",
    "else:\n",
    "    print('There are no significant 𝛽.')"
   ]
  },
  {
   "cell_type": "markdown",
   "id": "ede8d1d5",
   "metadata": {},
   "source": [
    "Assuming significant variables in the model based on the p-value of the F-test, the t-test is applied to each of the coefficients (including the intercept) to see if any variable is not significant and can be removed from the model.\n"
   ]
  },
  {
   "cell_type": "code",
   "execution_count": 13,
   "id": "236275c8",
   "metadata": {},
   "outputs": [],
   "source": [
    "# Creating a Matrix that contains de dependent values and a column of 1\n",
    "X_ = np.concatenate((np.array([1 for x in range(0, len(df_adver))]).reshape(-1,1), df_adver[['TV', 'Radio', 'Newspaper']].values), axis=1)"
   ]
  },
  {
   "cell_type": "code",
   "execution_count": 14,
   "id": "4a17222b",
   "metadata": {},
   "outputs": [],
   "source": [
    "# Sigma squared hat (3 cause the model has 3 predictory variables)\n",
    "sigma_squared_hat = soma_quad_fitted_real / (len(df_adver) - df_adver.shape[1])\n",
    "var_beta_hat = np.linalg.inv(X_.T @ X_) * sigma_squared_hat"
   ]
  },
  {
   "cell_type": "code",
   "execution_count": 15,
   "id": "1c116272",
   "metadata": {},
   "outputs": [
    {
     "name": "stdout",
     "output_type": "stream",
     "text": [
      "T statistic (α): 17.1559, p-value: 0.0.\n",
      "The intercept is statisticly different than 0.\n",
      "\n",
      "T statistic (𝛽0): 45.4339, p-value: 0.0.\n",
      "Coeficient 𝛽0 (TV) is statisticly different than 0.\n",
      "\n",
      "T statistic (𝛽1): 15.3474, p-value: 0.0.\n",
      "Coeficient 𝛽1 (Radio) is statisticly different than 0.\n",
      "\n",
      "T statistic (𝛽2): -0.013, p-value: 1.0103.\n",
      "Coeficient 𝛽2 (Newspaper) is statisticly equal 0.\n",
      "\n"
     ]
    }
   ],
   "source": [
    "# Testing the intercept significance\n",
    "estat_t_alpha = intercept/(var_beta_hat[0, 0] ** 0.5 )  \n",
    "pvalt = (1-stats.t.cdf(estat_t_alpha, dof2))*2\n",
    "print(f'T statistic (α): {round(estat_t_alpha,4)}, p-value: {round(pvalt, 4)}.')\n",
    "if pvalt < 0.05:\n",
    "    print(f'The intercept is statisticly different than 0.\\n')\n",
    "else:\n",
    "    print(f'The intercept is statisticly equal 0.\\n') \n",
    "\n",
    "# Testing the predictory variables significance\n",
    "for i in range(0,3):\n",
    "    estat_t_beta = coef[i]/(var_beta_hat[i+1, i+1] ** 0.5 )  \n",
    "    pvalt = (1-stats.t.cdf(estat_t_beta, dof2))*2\n",
    "        \n",
    "    print(f'T statistic (𝛽{i}): {round(estat_t_beta,4)}, p-value: {round(pvalt, 4)}.')\n",
    "    if pvalt < 0.05:\n",
    "        print(f'Coeficient 𝛽{i} ({df_adver.columns[i]}) is statisticly different than 0.\\n')\n",
    "    else:\n",
    "        print(f'Coeficient 𝛽{i} ({df_adver.columns[i]}) is statisticly equal 0.\\n')"
   ]
  },
  {
   "cell_type": "markdown",
   "id": "fb3a079b",
   "metadata": {},
   "source": [
    "As can be observed, the p-value of the t-test corresponding to the 'Newspaper' variable is -0.013, therefore, this variable is not significant for the model construction and can be disregarded.\n",
    "\n",
    "All of the processes needs to be repeated, excluding the variable.\n",
    "\n",
    "\n",
    "### Repeating the Proccess with only significant variables"
   ]
  },
  {
   "cell_type": "code",
   "execution_count": 16,
   "id": "523faadf",
   "metadata": {},
   "outputs": [
    {
     "data": {
      "text/html": [
       "<div>\n",
       "<style scoped>\n",
       "    .dataframe tbody tr th:only-of-type {\n",
       "        vertical-align: middle;\n",
       "    }\n",
       "\n",
       "    .dataframe tbody tr th {\n",
       "        vertical-align: top;\n",
       "    }\n",
       "\n",
       "    .dataframe thead th {\n",
       "        text-align: right;\n",
       "    }\n",
       "</style>\n",
       "<table border=\"1\" class=\"dataframe\">\n",
       "  <thead>\n",
       "    <tr style=\"text-align: right;\">\n",
       "      <th></th>\n",
       "      <th>TV</th>\n",
       "      <th>Radio</th>\n",
       "      <th>Sales</th>\n",
       "    </tr>\n",
       "  </thead>\n",
       "  <tbody>\n",
       "    <tr>\n",
       "      <th>0</th>\n",
       "      <td>230.1</td>\n",
       "      <td>37.8</td>\n",
       "      <td>22.1</td>\n",
       "    </tr>\n",
       "    <tr>\n",
       "      <th>1</th>\n",
       "      <td>44.5</td>\n",
       "      <td>39.3</td>\n",
       "      <td>10.4</td>\n",
       "    </tr>\n",
       "    <tr>\n",
       "      <th>2</th>\n",
       "      <td>17.2</td>\n",
       "      <td>45.9</td>\n",
       "      <td>12.0</td>\n",
       "    </tr>\n",
       "    <tr>\n",
       "      <th>3</th>\n",
       "      <td>151.5</td>\n",
       "      <td>41.3</td>\n",
       "      <td>16.5</td>\n",
       "    </tr>\n",
       "    <tr>\n",
       "      <th>4</th>\n",
       "      <td>180.8</td>\n",
       "      <td>10.8</td>\n",
       "      <td>17.9</td>\n",
       "    </tr>\n",
       "  </tbody>\n",
       "</table>\n",
       "</div>"
      ],
      "text/plain": [
       "      TV  Radio  Sales\n",
       "0  230.1   37.8   22.1\n",
       "1   44.5   39.3   10.4\n",
       "2   17.2   45.9   12.0\n",
       "3  151.5   41.3   16.5\n",
       "4  180.8   10.8   17.9"
      ]
     },
     "execution_count": 16,
     "metadata": {},
     "output_type": "execute_result"
    }
   ],
   "source": [
    "# Check train Data\n",
    "df_adver = pd.read_csv('Data/advertising.csv', index_col=0)\n",
    "df_adver = df_adver.drop('Newspaper', 1)\n",
    "df_adver.head(5)"
   ]
  },
  {
   "cell_type": "code",
   "execution_count": 17,
   "id": "1c22234b",
   "metadata": {},
   "outputs": [],
   "source": [
    "# Covariance Matrix\n",
    "df_cov = pd.DataFrame(index = df_adver.columns[:-1], columns = df_adver.columns)\n",
    "for idx in df_cov.index:\n",
    "    for col in df_cov.columns:\n",
    "        df_cov[col].loc[idx] = np.cov(np.array(df_adver[idx]), np.array(df_adver[col]))[0][1]"
   ]
  },
  {
   "cell_type": "code",
   "execution_count": 18,
   "id": "ffe2381a",
   "metadata": {},
   "outputs": [
    {
     "name": "stdout",
     "output_type": "stream",
     "text": [
      "The equation is: yi = 4.5193 + (0.0548 * x1) + (0.1121 * x2)\n"
     ]
    }
   ],
   "source": [
    "# Separating A and b\n",
    "A = df_cov.iloc[0:2,0:2].values.astype(float)\n",
    "b = df_cov['Sales'].values.astype(float)\n",
    "\n",
    "coef = np.linalg.solve(A,b)\n",
    "\n",
    "intercept = df_adver.mean()[len(df_adver.mean())-1]\n",
    "for i in range(0, len(df_adver.mean())-1):\n",
    "    intercept -= df_adver.mean()[i] * coef[i]\n",
    "    \n",
    "print(f'The equation is: yi = {round(intercept,4)} + ({round(coef[0],4)} * x1) + ({round(coef[1],4)} * x2)')"
   ]
  },
  {
   "cell_type": "code",
   "execution_count": 19,
   "id": "eb46d05c",
   "metadata": {},
   "outputs": [
    {
     "data": {
      "text/html": [
       "<div>\n",
       "<style scoped>\n",
       "    .dataframe tbody tr th:only-of-type {\n",
       "        vertical-align: middle;\n",
       "    }\n",
       "\n",
       "    .dataframe tbody tr th {\n",
       "        vertical-align: top;\n",
       "    }\n",
       "\n",
       "    .dataframe thead th {\n",
       "        text-align: right;\n",
       "    }\n",
       "</style>\n",
       "<table border=\"1\" class=\"dataframe\">\n",
       "  <thead>\n",
       "    <tr style=\"text-align: right;\">\n",
       "      <th></th>\n",
       "      <th>TV</th>\n",
       "      <th>Radio</th>\n",
       "      <th>Sales</th>\n",
       "      <th>fitted_Sales</th>\n",
       "    </tr>\n",
       "  </thead>\n",
       "  <tbody>\n",
       "    <tr>\n",
       "      <th>0</th>\n",
       "      <td>230.1</td>\n",
       "      <td>37.8</td>\n",
       "      <td>22.1</td>\n",
       "      <td>21.373458</td>\n",
       "    </tr>\n",
       "    <tr>\n",
       "      <th>1</th>\n",
       "      <td>44.5</td>\n",
       "      <td>39.3</td>\n",
       "      <td>10.4</td>\n",
       "      <td>11.364016</td>\n",
       "    </tr>\n",
       "    <tr>\n",
       "      <th>2</th>\n",
       "      <td>17.2</td>\n",
       "      <td>45.9</td>\n",
       "      <td>12.0</td>\n",
       "      <td>10.606680</td>\n",
       "    </tr>\n",
       "    <tr>\n",
       "      <th>3</th>\n",
       "      <td>151.5</td>\n",
       "      <td>41.3</td>\n",
       "      <td>16.5</td>\n",
       "      <td>17.455609</td>\n",
       "    </tr>\n",
       "    <tr>\n",
       "      <th>4</th>\n",
       "      <td>180.8</td>\n",
       "      <td>10.8</td>\n",
       "      <td>17.9</td>\n",
       "      <td>15.644059</td>\n",
       "    </tr>\n",
       "  </tbody>\n",
       "</table>\n",
       "</div>"
      ],
      "text/plain": [
       "      TV  Radio  Sales  fitted_Sales\n",
       "0  230.1   37.8   22.1     21.373458\n",
       "1   44.5   39.3   10.4     11.364016\n",
       "2   17.2   45.9   12.0     10.606680\n",
       "3  151.5   41.3   16.5     17.455609\n",
       "4  180.8   10.8   17.9     15.644059"
      ]
     },
     "execution_count": 19,
     "metadata": {},
     "output_type": "execute_result"
    }
   ],
   "source": [
    "# Obtaining the fitted values\n",
    "df_adver['fitted_Sales'] = intercept\n",
    "for i in range (0, len(df_adver.columns)-2):\n",
    "    df_adver['fitted_Sales'] += df_adver.iloc[:,i]*coef[i]\n",
    "df_adver.head(5)"
   ]
  },
  {
   "cell_type": "code",
   "execution_count": 20,
   "id": "4d58f441",
   "metadata": {},
   "outputs": [
    {
     "name": "stdout",
     "output_type": "stream",
     "text": [
      "R²: 0.931\n"
     ]
    }
   ],
   "source": [
    "# Getting R²\n",
    "residuals = df_adver['fitted_Sales'] - df_adver['Sales']\n",
    "soma_quad_fitted_med = ((df_adver['fitted_Sales']-df_adver['Sales'].mean())**2).sum()\n",
    "soma_quad_fitted_real = (residuals**2).sum()\n",
    "R = soma_quad_fitted_med / (soma_quad_fitted_med + soma_quad_fitted_real)\n",
    "print(f'R²: {round(R,4)}')"
   ]
  },
  {
   "cell_type": "markdown",
   "id": "de080264",
   "metadata": {},
   "source": [
    "It is interesting to note that despite the removal of the variable, the R² value of the model did not change. However, regardless of this value, the model will be better adjusted without the presence of this variable."
   ]
  },
  {
   "cell_type": "code",
   "execution_count": 21,
   "id": "b156bdee",
   "metadata": {},
   "outputs": [
    {
     "name": "stdout",
     "output_type": "stream",
     "text": [
      "F-statistic: 1261.6661, p-value: 0.0.\n",
      "At least one 𝛽 is significant.\n"
     ]
    }
   ],
   "source": [
    "# F-Test\n",
    "dof1 = len(df_adver.columns)-2\n",
    "dof2 = len(df_adver) - dof1 -1\n",
    "f_stat = ((soma_quad_fitted_med/dof1)/(soma_quad_fitted_real/dof2))\n",
    "    \n",
    "# P-value for F-Test\n",
    "pvalf = 1-stats.f.cdf(f_stat, dof1, dof2)\n",
    "print(f'F-statistic: {round(f_stat, 4)}, p-value: {round(pvalf, 4)}.')\n",
    "    \n",
    "# Checking significance\n",
    "if pvalf < 0.05:\n",
    "    print('At least one 𝛽 is significant.')\n",
    "else:\n",
    "    print('There are no significant 𝛽.')"
   ]
  },
  {
   "cell_type": "code",
   "execution_count": 22,
   "id": "91f150be",
   "metadata": {},
   "outputs": [],
   "source": [
    "# Sigma squared hat (3 cause the model has 3 predictory variables)\n",
    "sigma_squared_hat = soma_quad_fitted_real / (len(df_adver) - df_adver.shape[1])\n",
    "var_beta_hat = np.linalg.inv(X_.T @ X_) * sigma_squared_hat"
   ]
  },
  {
   "cell_type": "code",
   "execution_count": 23,
   "id": "8433e93a",
   "metadata": {},
   "outputs": [
    {
     "name": "stdout",
     "output_type": "stream",
     "text": [
      "T statistic (α): 17.1979, p-value: 0.0.\n",
      "The intercept is statisticly different than 0.\n",
      "\n",
      "T statistic (𝛽0): 45.5559, p-value: 0.0.\n",
      "Coeficient 𝛽0 (TV) is statisticly different than 0.\n",
      "\n",
      "T statistic (𝛽1): 15.3843, p-value: 0.0.\n",
      "Coeficient 𝛽1 (Radio) is statisticly different than 0.\n",
      "\n"
     ]
    }
   ],
   "source": [
    "# Testing the intercept significance\n",
    "estat_t_alpha = intercept/(var_beta_hat[0, 0] ** 0.5 )  \n",
    "pvalt = (1-stats.t.cdf(estat_t_alpha, dof2))*2\n",
    "print(f'T statistic (α): {round(estat_t_alpha,4)}, p-value: {round(pvalt, 4)}.')\n",
    "if pvalt < 0.05:\n",
    "    print(f'The intercept is statisticly different than 0.\\n')\n",
    "else:\n",
    "    print(f'The intercept is statisticly equal 0.\\n') \n",
    "\n",
    "# Testing the predictory variables significance\n",
    "for i in range(0,2):\n",
    "    estat_t_beta = coef[i]/(var_beta_hat[i+1, i+1] ** 0.5 )  \n",
    "    pvalt = (1-stats.t.cdf(estat_t_beta, dof2))*2\n",
    "        \n",
    "    print(f'T statistic (𝛽{i}): {round(estat_t_beta,4)}, p-value: {round(pvalt, 4)}.')\n",
    "    if pvalt < 0.05:\n",
    "        print(f'Coeficient 𝛽{i} ({df_adver.columns[i]}) is statisticly different than 0.\\n')\n",
    "    else:\n",
    "        print(f'Coeficient 𝛽{i} ({df_adver.columns[i]}) is statisticly equal 0.\\n')"
   ]
  },
  {
   "cell_type": "markdown",
   "id": "376bbe23",
   "metadata": {},
   "source": [
    "### Checking the Residuals Normality\n",
    "\n",
    "If the residuals are not normally distributed, this can indicate the presence of some form of bias or nonlinearity in the model. This can lead to inaccurate predictions and reduced model performance. Therefore, it is important to check the normality of the residuals as part of the model diagnostic process."
   ]
  },
  {
   "cell_type": "code",
   "execution_count": 24,
   "id": "c485dc07",
   "metadata": {},
   "outputs": [
    {
     "data": {
      "image/png": "[encoded data removed]",
      "text/plain": [
       "<Figure size 640x480 with 1 Axes>"
      ]
     },
     "metadata": {},
     "output_type": "display_data"
    }
   ],
   "source": [
    "# Plotting a Histogram\n",
    "sns.distplot(residuals);"
   ]
  },
  {
   "cell_type": "markdown",
   "id": "a6576eed",
   "metadata": {},
   "source": [
    "A histogram can be a useful tool to observe the normality of the residuals, but to be more certain, the Shapiro-Wilk test is often used. This statistical test measures the discrepancy between the observed distribution of data and the expected distribution under normality, and provides a p-value to assess the normality of the data.\n",
    "\n",
    "If the Shapiro test returns a p-value greater than 0.05, this indicates that there is not enough evidence to reject the null hypothesis of normality. In other words, we can conclude that the data follows a normal distribution at a significance level of 5% (or lower, depending on the exact p-value obtained)."
   ]
  },
  {
   "cell_type": "code",
   "execution_count": 25,
   "id": "827278a3",
   "metadata": {},
   "outputs": [
    {
     "data": {
      "text/plain": [
       "ShapiroResult(statistic=0.9884517192840576, pvalue=0.12589530646800995)"
      ]
     },
     "execution_count": 25,
     "metadata": {},
     "output_type": "execute_result"
    }
   ],
   "source": [
    "# Shapiro Test\n",
    "stats.shapiro(residuals)"
   ]
  },
  {
   "cell_type": "markdown",
   "id": "a401128e",
   "metadata": {},
   "source": [
    "The Linear Regression Model described by the variables 'Radio' and 'TV' is completed. It explains the behavior of the 'Sales' variable by 93% and its equation is:\n",
    "\n",
    "${Sales}_i = {4.5193} + {TV}_{i} * {0.0548} + {Radio}_{i} * {0.1121}$\n",
    "\n",
    "The significance of its variables could be observed, as well as the normality of the obtained residuals."
   ]
  },
  {
   "cell_type": "code",
   "execution_count": 26,
   "id": "3622a030",
   "metadata": {},
   "outputs": [
    {
     "data": {
      "text/html": [
       "<div>\n",
       "<style scoped>\n",
       "    .dataframe tbody tr th:only-of-type {\n",
       "        vertical-align: middle;\n",
       "    }\n",
       "\n",
       "    .dataframe tbody tr th {\n",
       "        vertical-align: top;\n",
       "    }\n",
       "\n",
       "    .dataframe thead th {\n",
       "        text-align: right;\n",
       "    }\n",
       "</style>\n",
       "<table border=\"1\" class=\"dataframe\">\n",
       "  <thead>\n",
       "    <tr style=\"text-align: right;\">\n",
       "      <th></th>\n",
       "      <th>TV</th>\n",
       "      <th>Radio</th>\n",
       "      <th>Sales</th>\n",
       "      <th>fitted_Sales</th>\n",
       "    </tr>\n",
       "  </thead>\n",
       "  <tbody>\n",
       "    <tr>\n",
       "      <th>0</th>\n",
       "      <td>230.1</td>\n",
       "      <td>37.8</td>\n",
       "      <td>22.1</td>\n",
       "      <td>21.373458</td>\n",
       "    </tr>\n",
       "    <tr>\n",
       "      <th>1</th>\n",
       "      <td>44.5</td>\n",
       "      <td>39.3</td>\n",
       "      <td>10.4</td>\n",
       "      <td>11.364016</td>\n",
       "    </tr>\n",
       "    <tr>\n",
       "      <th>2</th>\n",
       "      <td>17.2</td>\n",
       "      <td>45.9</td>\n",
       "      <td>12.0</td>\n",
       "      <td>10.606680</td>\n",
       "    </tr>\n",
       "    <tr>\n",
       "      <th>3</th>\n",
       "      <td>151.5</td>\n",
       "      <td>41.3</td>\n",
       "      <td>16.5</td>\n",
       "      <td>17.455609</td>\n",
       "    </tr>\n",
       "    <tr>\n",
       "      <th>4</th>\n",
       "      <td>180.8</td>\n",
       "      <td>10.8</td>\n",
       "      <td>17.9</td>\n",
       "      <td>15.644059</td>\n",
       "    </tr>\n",
       "  </tbody>\n",
       "</table>\n",
       "</div>"
      ],
      "text/plain": [
       "      TV  Radio  Sales  fitted_Sales\n",
       "0  230.1   37.8   22.1     21.373458\n",
       "1   44.5   39.3   10.4     11.364016\n",
       "2   17.2   45.9   12.0     10.606680\n",
       "3  151.5   41.3   16.5     17.455609\n",
       "4  180.8   10.8   17.9     15.644059"
      ]
     },
     "execution_count": 26,
     "metadata": {},
     "output_type": "execute_result"
    }
   ],
   "source": [
    "df_adver.head(5)"
   ]
  },
  {
   "cell_type": "markdown",
   "id": "65ad45f6",
   "metadata": {},
   "source": [
    "### Comparing the results\n",
    "\n",
    "Now the results gotten on the step-by-step implementation will be compared to the results from sklearn library.\n",
    "\n",
    "Firstly, we will compare the results of the model without the exclusion of the 'Newspaper' variable, which had an intercept of 4.5204 and coefficients (0.0548, 0.1121, and --6.45e-05) with an R² of 93%."
   ]
  },
  {
   "cell_type": "code",
   "execution_count": 27,
   "id": "fea88a12",
   "metadata": {},
   "outputs": [],
   "source": [
    "# Importing LinearRegression from sklearn\n",
    "from sklearn.linear_model import LinearRegression"
   ]
  },
  {
   "cell_type": "code",
   "execution_count": 28,
   "id": "0ef1279d",
   "metadata": {},
   "outputs": [],
   "source": [
    "# Check Data\n",
    "df_adver_comp1 = pd.read_csv('Data/advertising.csv', index_col=0)"
   ]
  },
  {
   "cell_type": "code",
   "execution_count": 29,
   "id": "4e3bcd39",
   "metadata": {},
   "outputs": [
    {
     "data": {
      "text/plain": [
       "LinearRegression()"
      ]
     },
     "execution_count": 29,
     "metadata": {},
     "output_type": "execute_result"
    }
   ],
   "source": [
    "# Applying the Dataframe on the model\n",
    "x_v = df_adver_comp1.drop('Sales', 1).values\n",
    "y_v = df_adver_comp1['Sales'].values\n",
    "regressor = LinearRegression()\n",
    "regressor.fit(x_v, y_v)"
   ]
  },
  {
   "cell_type": "code",
   "execution_count": 30,
   "id": "9e1e9fb3",
   "metadata": {},
   "outputs": [
    {
     "data": {
      "text/plain": [
       "4.5204461140456065"
      ]
     },
     "execution_count": 30,
     "metadata": {},
     "output_type": "execute_result"
    }
   ],
   "source": [
    "# Model Intercept\n",
    "regressor.intercept_"
   ]
  },
  {
   "cell_type": "code",
   "execution_count": 31,
   "id": "35ec01d8",
   "metadata": {},
   "outputs": [
    {
     "data": {
      "text/plain": [
       "array([ 5.48367159e-02,  1.12105939e-01, -6.44664274e-05])"
      ]
     },
     "execution_count": 31,
     "metadata": {},
     "output_type": "execute_result"
    }
   ],
   "source": [
    "# Model Coefficients\n",
    "regressor.coef_"
   ]
  },
  {
   "cell_type": "code",
   "execution_count": 32,
   "id": "3cf6aa80",
   "metadata": {},
   "outputs": [
    {
     "data": {
      "text/plain": [
       "0.9310048312189712"
      ]
     },
     "execution_count": 32,
     "metadata": {},
     "output_type": "execute_result"
    }
   ],
   "source": [
    "# R²\n",
    "regressor.score(x_v, y_v)"
   ]
  },
  {
   "cell_type": "markdown",
   "id": "09f8c6e8",
   "metadata": {},
   "source": [
    "The results match perfectly. Now we will compare the results of a new model, conducted without the 'Newspaper' variable, which obtained an intercept of 4.5193 and coefficients of 0.1121 and 0.1121 for 'TV' and 'Radio', respectively, with an R-squared of 93%."
   ]
  },
  {
   "cell_type": "code",
   "execution_count": 33,
   "id": "683d78e0",
   "metadata": {},
   "outputs": [],
   "source": [
    "# Dropping Newspaper\n",
    "df_adver_comp1 = df_adver_comp1.drop('Newspaper', 1)"
   ]
  },
  {
   "cell_type": "code",
   "execution_count": 34,
   "id": "8beeff95",
   "metadata": {},
   "outputs": [
    {
     "data": {
      "text/plain": [
       "LinearRegression()"
      ]
     },
     "execution_count": 34,
     "metadata": {},
     "output_type": "execute_result"
    }
   ],
   "source": [
    "# Applying the Dataframe on the model\n",
    "x_v = df_adver_comp1.drop('Sales', 1).values\n",
    "y_v = df_adver_comp1['Sales'].values\n",
    "regressor = LinearRegression()\n",
    "regressor.fit(x_v, y_v)"
   ]
  },
  {
   "cell_type": "code",
   "execution_count": 35,
   "id": "465cf3fa",
   "metadata": {},
   "outputs": [
    {
     "data": {
      "text/plain": [
       "4.519324338077698"
      ]
     },
     "execution_count": 35,
     "metadata": {},
     "output_type": "execute_result"
    }
   ],
   "source": [
    "# Model Intercept\n",
    "regressor.intercept_"
   ]
  },
  {
   "cell_type": "code",
   "execution_count": 36,
   "id": "3839ee56",
   "metadata": {},
   "outputs": [
    {
     "data": {
      "text/plain": [
       "array([0.05483595, 0.11207358])"
      ]
     },
     "execution_count": 36,
     "metadata": {},
     "output_type": "execute_result"
    }
   ],
   "source": [
    "# Model Coefficients\n",
    "regressor.coef_"
   ]
  },
  {
   "cell_type": "code",
   "execution_count": 37,
   "id": "25fbf31b",
   "metadata": {},
   "outputs": [
    {
     "data": {
      "text/plain": [
       "0.9310047685272043"
      ]
     },
     "execution_count": 37,
     "metadata": {},
     "output_type": "execute_result"
    }
   ],
   "source": [
    "# R²\n",
    "regressor.score(x_v, y_v)"
   ]
  },
  {
   "cell_type": "markdown",
   "id": "ba1748fd",
   "metadata": {},
   "source": [
    "The results obtained from the sklearn library are again identical to those reproduced in the step-by-step process for building the model."
   ]
  }
 ],
 "metadata": {
  "kernelspec": {
   "display_name": "Python 3",
   "language": "python",
   "name": "python3"
  },
  "language_info": {
   "codemirror_mode": {
    "name": "ipython",
    "version": 3
   },
   "file_extension": ".py",
   "mimetype": "text/x-python",
   "name": "python",
   "nbconvert_exporter": "python",
   "pygments_lexer": "ipython3",
   "version": "3.9.13"
  }
 },
 "nbformat": 4,
 "nbformat_minor": 5
}
